{
 "cells": [
  {
   "cell_type": "markdown",
   "id": "e0f28f67-d2a6-47ea-85c4-7915e83c5bc0",
   "metadata": {},
   "source": [
    "# Impact Evaluation Financial Assessment "
   ]
  },
  {
   "cell_type": "code",
   "execution_count": null,
   "id": "dc1354a4-f9f7-477f-94cd-b8008d731fe9",
   "metadata": {},
   "outputs": [],
   "source": []
  }
 ],
 "metadata": {
  "kernelspec": {
   "display_name": "Python 3",
   "language": "python",
   "name": "python3"
  },
  "language_info": {
   "codemirror_mode": {
    "name": "ipython",
    "version": 3
   },
   "file_extension": ".py",
   "mimetype": "text/x-python",
   "name": "python",
   "nbconvert_exporter": "python",
   "pygments_lexer": "ipython3",
   "version": "3.9.13"
  }
 },
 "nbformat": 4,
 "nbformat_minor": 5
}
